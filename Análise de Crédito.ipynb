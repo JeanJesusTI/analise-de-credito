{
  "nbformat": 4,
  "nbformat_minor": 0,
  "metadata": {
    "colab": {
      "provenance": [],
      "collapsed_sections": [
        "4Xop16V4Q0oS"
      ],
      "toc_visible": true
    },
    "kernelspec": {
      "name": "python3",
      "display_name": "Python 3"
    },
    "language_info": {
      "name": "python"
    }
  },
  "cells": [
    {
      "cell_type": "markdown",
      "source": [
        "**Analise de Crédito**"
      ],
      "metadata": {
        "id": "8gp3J-5FHxyO"
      }
    },
    {
      "cell_type": "code",
      "source": [
        "import pandas as pd\n",
        "import numpy as np\n",
        "import statistics\n",
        "from scipy import stats\n",
        "from sklearn.model_selection import train_test_split\n",
        "from sklearn.naive_bayes import GaussianNB\n",
        "from sklearn.linear_model import LogisticRegression\n",
        "from sklearn.ensemble import RandomForestClassifier\n",
        "from sklearn.metrics import accuracy_score"
      ],
      "metadata": {
        "id": "AeT2_2J9HymX"
      },
      "execution_count": 22,
      "outputs": []
    },
    {
      "cell_type": "code",
      "source": [
        "dataset = pd.read_csv('credit_data.csv')\n",
        "dataset.head()"
      ],
      "metadata": {
        "colab": {
          "base_uri": "https://localhost:8080/",
          "height": 206
        },
        "id": "0-KJEN0uHp3K",
        "outputId": "fb831cea-1800-446b-d7e0-cbe21cf8da48"
      },
      "execution_count": 3,
      "outputs": [
        {
          "output_type": "execute_result",
          "data": {
            "text/plain": [
              "   i#clientid        income        age         loan  c#default\n",
              "0           1  66155.925095  59.017015  8106.532131          0\n",
              "1           2  34415.153966  48.117153  6564.745018          0\n",
              "2           3  57317.170063  63.108049  8020.953296          0\n",
              "3           4  42709.534201  45.751972  6103.642260          0\n",
              "4           5  66952.688845  18.584336  8770.099235          1"
            ],
            "text/html": [
              "\n",
              "  <div id=\"df-ac8fda5a-858e-47e8-985b-67fe9686b725\">\n",
              "    <div class=\"colab-df-container\">\n",
              "      <div>\n",
              "<style scoped>\n",
              "    .dataframe tbody tr th:only-of-type {\n",
              "        vertical-align: middle;\n",
              "    }\n",
              "\n",
              "    .dataframe tbody tr th {\n",
              "        vertical-align: top;\n",
              "    }\n",
              "\n",
              "    .dataframe thead th {\n",
              "        text-align: right;\n",
              "    }\n",
              "</style>\n",
              "<table border=\"1\" class=\"dataframe\">\n",
              "  <thead>\n",
              "    <tr style=\"text-align: right;\">\n",
              "      <th></th>\n",
              "      <th>i#clientid</th>\n",
              "      <th>income</th>\n",
              "      <th>age</th>\n",
              "      <th>loan</th>\n",
              "      <th>c#default</th>\n",
              "    </tr>\n",
              "  </thead>\n",
              "  <tbody>\n",
              "    <tr>\n",
              "      <th>0</th>\n",
              "      <td>1</td>\n",
              "      <td>66155.925095</td>\n",
              "      <td>59.017015</td>\n",
              "      <td>8106.532131</td>\n",
              "      <td>0</td>\n",
              "    </tr>\n",
              "    <tr>\n",
              "      <th>1</th>\n",
              "      <td>2</td>\n",
              "      <td>34415.153966</td>\n",
              "      <td>48.117153</td>\n",
              "      <td>6564.745018</td>\n",
              "      <td>0</td>\n",
              "    </tr>\n",
              "    <tr>\n",
              "      <th>2</th>\n",
              "      <td>3</td>\n",
              "      <td>57317.170063</td>\n",
              "      <td>63.108049</td>\n",
              "      <td>8020.953296</td>\n",
              "      <td>0</td>\n",
              "    </tr>\n",
              "    <tr>\n",
              "      <th>3</th>\n",
              "      <td>4</td>\n",
              "      <td>42709.534201</td>\n",
              "      <td>45.751972</td>\n",
              "      <td>6103.642260</td>\n",
              "      <td>0</td>\n",
              "    </tr>\n",
              "    <tr>\n",
              "      <th>4</th>\n",
              "      <td>5</td>\n",
              "      <td>66952.688845</td>\n",
              "      <td>18.584336</td>\n",
              "      <td>8770.099235</td>\n",
              "      <td>1</td>\n",
              "    </tr>\n",
              "  </tbody>\n",
              "</table>\n",
              "</div>\n",
              "      <button class=\"colab-df-convert\" onclick=\"convertToInteractive('df-ac8fda5a-858e-47e8-985b-67fe9686b725')\"\n",
              "              title=\"Convert this dataframe to an interactive table.\"\n",
              "              style=\"display:none;\">\n",
              "        \n",
              "  <svg xmlns=\"http://www.w3.org/2000/svg\" height=\"24px\"viewBox=\"0 0 24 24\"\n",
              "       width=\"24px\">\n",
              "    <path d=\"M0 0h24v24H0V0z\" fill=\"none\"/>\n",
              "    <path d=\"M18.56 5.44l.94 2.06.94-2.06 2.06-.94-2.06-.94-.94-2.06-.94 2.06-2.06.94zm-11 1L8.5 8.5l.94-2.06 2.06-.94-2.06-.94L8.5 2.5l-.94 2.06-2.06.94zm10 10l.94 2.06.94-2.06 2.06-.94-2.06-.94-.94-2.06-.94 2.06-2.06.94z\"/><path d=\"M17.41 7.96l-1.37-1.37c-.4-.4-.92-.59-1.43-.59-.52 0-1.04.2-1.43.59L10.3 9.45l-7.72 7.72c-.78.78-.78 2.05 0 2.83L4 21.41c.39.39.9.59 1.41.59.51 0 1.02-.2 1.41-.59l7.78-7.78 2.81-2.81c.8-.78.8-2.07 0-2.86zM5.41 20L4 18.59l7.72-7.72 1.47 1.35L5.41 20z\"/>\n",
              "  </svg>\n",
              "      </button>\n",
              "      \n",
              "  <style>\n",
              "    .colab-df-container {\n",
              "      display:flex;\n",
              "      flex-wrap:wrap;\n",
              "      gap: 12px;\n",
              "    }\n",
              "\n",
              "    .colab-df-convert {\n",
              "      background-color: #E8F0FE;\n",
              "      border: none;\n",
              "      border-radius: 50%;\n",
              "      cursor: pointer;\n",
              "      display: none;\n",
              "      fill: #1967D2;\n",
              "      height: 32px;\n",
              "      padding: 0 0 0 0;\n",
              "      width: 32px;\n",
              "    }\n",
              "\n",
              "    .colab-df-convert:hover {\n",
              "      background-color: #E2EBFA;\n",
              "      box-shadow: 0px 1px 2px rgba(60, 64, 67, 0.3), 0px 1px 3px 1px rgba(60, 64, 67, 0.15);\n",
              "      fill: #174EA6;\n",
              "    }\n",
              "\n",
              "    [theme=dark] .colab-df-convert {\n",
              "      background-color: #3B4455;\n",
              "      fill: #D2E3FC;\n",
              "    }\n",
              "\n",
              "    [theme=dark] .colab-df-convert:hover {\n",
              "      background-color: #434B5C;\n",
              "      box-shadow: 0px 1px 3px 1px rgba(0, 0, 0, 0.15);\n",
              "      filter: drop-shadow(0px 1px 2px rgba(0, 0, 0, 0.3));\n",
              "      fill: #FFFFFF;\n",
              "    }\n",
              "  </style>\n",
              "\n",
              "      <script>\n",
              "        const buttonEl =\n",
              "          document.querySelector('#df-ac8fda5a-858e-47e8-985b-67fe9686b725 button.colab-df-convert');\n",
              "        buttonEl.style.display =\n",
              "          google.colab.kernel.accessAllowed ? 'block' : 'none';\n",
              "\n",
              "        async function convertToInteractive(key) {\n",
              "          const element = document.querySelector('#df-ac8fda5a-858e-47e8-985b-67fe9686b725');\n",
              "          const dataTable =\n",
              "            await google.colab.kernel.invokeFunction('convertToInteractive',\n",
              "                                                     [key], {});\n",
              "          if (!dataTable) return;\n",
              "\n",
              "          const docLinkHtml = 'Like what you see? Visit the ' +\n",
              "            '<a target=\"_blank\" href=https://colab.research.google.com/notebooks/data_table.ipynb>data table notebook</a>'\n",
              "            + ' to learn more about interactive tables.';\n",
              "          element.innerHTML = '';\n",
              "          dataTable['output_type'] = 'display_data';\n",
              "          await google.colab.output.renderOutput(dataTable, element);\n",
              "          const docLink = document.createElement('div');\n",
              "          docLink.innerHTML = docLinkHtml;\n",
              "          element.appendChild(docLink);\n",
              "        }\n",
              "      </script>\n",
              "    </div>\n",
              "  </div>\n",
              "  "
            ]
          },
          "metadata": {},
          "execution_count": 3
        }
      ]
    },
    {
      "cell_type": "code",
      "source": [
        "dataset.isna().sum()"
      ],
      "metadata": {
        "colab": {
          "base_uri": "https://localhost:8080/"
        },
        "id": "e1BMdV7pIDZp",
        "outputId": "95355dc2-4ad1-4d5a-da40-64c17f7c8aa5"
      },
      "execution_count": 4,
      "outputs": [
        {
          "output_type": "execute_result",
          "data": {
            "text/plain": [
              "i#clientid    0\n",
              "income        0\n",
              "age           3\n",
              "loan          0\n",
              "c#default     0\n",
              "dtype: int64"
            ]
          },
          "metadata": {},
          "execution_count": 4
        }
      ]
    },
    {
      "cell_type": "code",
      "source": [
        "# Removendo valores NA\n",
        "dataset.dropna(inplace=True)\n",
        "dataset.isna().sum()"
      ],
      "metadata": {
        "colab": {
          "base_uri": "https://localhost:8080/"
        },
        "id": "h0B60PZMIRRY",
        "outputId": "82affb57-2cfb-48ee-a7f4-c157a80a248f"
      },
      "execution_count": 5,
      "outputs": [
        {
          "output_type": "execute_result",
          "data": {
            "text/plain": [
              "i#clientid    0\n",
              "income        0\n",
              "age           0\n",
              "loan          0\n",
              "c#default     0\n",
              "dtype: int64"
            ]
          },
          "metadata": {},
          "execution_count": 5
        }
      ]
    },
    {
      "cell_type": "code",
      "source": [
        "X = dataset.iloc[:, 1:4].values\n",
        "X"
      ],
      "metadata": {
        "colab": {
          "base_uri": "https://localhost:8080/"
        },
        "id": "PgV9pkhwIYJA",
        "outputId": "7ab0266c-3bd2-40ac-da8b-a32dc1e7f9a5"
      },
      "execution_count": 6,
      "outputs": [
        {
          "output_type": "execute_result",
          "data": {
            "text/plain": [
              "array([[6.61559251e+04, 5.90170151e+01, 8.10653213e+03],\n",
              "       [3.44151540e+04, 4.81171531e+01, 6.56474502e+03],\n",
              "       [5.73171701e+04, 6.31080495e+01, 8.02095330e+03],\n",
              "       ...,\n",
              "       [4.43114493e+04, 2.80171669e+01, 5.52278669e+03],\n",
              "       [4.37560566e+04, 6.39717958e+01, 1.62272260e+03],\n",
              "       [6.94365796e+04, 5.61526170e+01, 7.37883360e+03]])"
            ]
          },
          "metadata": {},
          "execution_count": 6
        }
      ]
    },
    {
      "cell_type": "code",
      "source": [
        "y = dataset.iloc[:,4].values\n",
        "y"
      ],
      "metadata": {
        "colab": {
          "base_uri": "https://localhost:8080/"
        },
        "id": "LEwnMi0pIu_g",
        "outputId": "eb62199c-0339-4009-e00b-ea58fc040d67"
      },
      "execution_count": 8,
      "outputs": [
        {
          "output_type": "execute_result",
          "data": {
            "text/plain": [
              "array([0, 0, 0, ..., 1, 0, 0])"
            ]
          },
          "metadata": {},
          "execution_count": 8
        }
      ]
    },
    {
      "cell_type": "markdown",
      "source": [
        "**Testando Algoritimos**\n",
        "\n",
        "Executaremos 30 testes ( Que é o que é recomendado pela comunidade cientifica)"
      ],
      "metadata": {
        "id": "ZJDwCW6lJZkA"
      }
    },
    {
      "cell_type": "code",
      "source": [
        "from sklearn import naive_bayes\n",
        "\n",
        "resultados_naive_bayes = []\n",
        "resultados_logistica = []\n",
        "resultados_forest = []\n",
        "\n",
        "for i in range(30):\n",
        "  X_treinamento, X_teste, y_treinamento, y_teste = train_test_split(X,y, test_size=0.2, \n",
        "                                                                    stratify=y,\n",
        "                                                                    random_state=i)\n",
        "  \n",
        "  # Algoritimo NaiveBayes\n",
        "  naive_bayes = GaussianNB()\n",
        "  naive_bayes.fit(X_treinamento, y_treinamento)\n",
        "  resultados_naive_bayes.append(accuracy_score(y_teste, naive_bayes.predict(X_teste)))\n",
        "\n",
        "  # Algoritimo Regressão Logistica\n",
        "  logistic = LogisticRegression()\n",
        "  logistic.fit(X_treinamento, y_treinamento)\n",
        "  resultados_logistica.append(accuracy_score(y_teste, logistic.predict(X_teste)))\n",
        "\n",
        "  # Algoritimo RandomForest\n",
        "  random_forest = RandomForestClassifier()\n",
        "  random_forest.fit(X_treinamento, y_treinamento)\n",
        "  resultados_forest.append(accuracy_score(y_teste, random_forest.predict(X_teste)))\n"
      ],
      "metadata": {
        "id": "pNTc8R3CI0yP"
      },
      "execution_count": 10,
      "outputs": []
    },
    {
      "cell_type": "code",
      "source": [
        "print(resultados_naive_bayes)"
      ],
      "metadata": {
        "colab": {
          "base_uri": "https://localhost:8080/"
        },
        "id": "sBfQVHhzQGzU",
        "outputId": "325a1fe6-ba7e-4330-b217-f038572295a7"
      },
      "execution_count": 11,
      "outputs": [
        {
          "output_type": "stream",
          "name": "stdout",
          "text": [
            "[0.925, 0.925, 0.9325, 0.925, 0.92, 0.905, 0.9175, 0.9175, 0.9125, 0.9325, 0.9225, 0.9125, 0.935, 0.9175, 0.925, 0.9175, 0.9275, 0.92, 0.9325, 0.92, 0.93, 0.905, 0.9175, 0.9325, 0.9425, 0.9375, 0.94, 0.92, 0.935, 0.925]\n"
          ]
        }
      ]
    },
    {
      "cell_type": "code",
      "source": [
        "print(resultados_logistica)"
      ],
      "metadata": {
        "colab": {
          "base_uri": "https://localhost:8080/"
        },
        "id": "3miMiWJKQVAx",
        "outputId": "17ec75d7-4542-41b6-c9ca-7c1a658c5b9f"
      },
      "execution_count": 12,
      "outputs": [
        {
          "output_type": "stream",
          "name": "stdout",
          "text": [
            "[0.9325, 0.91, 0.9125, 0.9225, 0.9075, 0.89, 0.91, 0.9075, 0.8775, 0.915, 0.9175, 0.9, 0.925, 0.9175, 0.9025, 0.9125, 0.9525, 0.91, 0.9225, 0.9075, 0.925, 0.905, 0.9075, 0.945, 0.9225, 0.9275, 0.9225, 0.9175, 0.91, 0.9]\n"
          ]
        }
      ]
    },
    {
      "cell_type": "code",
      "source": [
        "print(resultados_forest)"
      ],
      "metadata": {
        "colab": {
          "base_uri": "https://localhost:8080/"
        },
        "id": "bq_MgLB7QZ_Q",
        "outputId": "b4f2851e-3742-4376-ebca-6c8ddf6c5726"
      },
      "execution_count": 13,
      "outputs": [
        {
          "output_type": "stream",
          "name": "stdout",
          "text": [
            "[0.9775, 0.9875, 0.9825, 0.995, 0.98, 0.9875, 0.985, 0.9825, 0.975, 0.99, 0.985, 0.98, 0.975, 0.9875, 0.98, 0.9775, 0.985, 0.985, 0.99, 0.9875, 0.98, 0.975, 0.985, 0.985, 0.9925, 0.995, 0.9925, 0.985, 0.99, 0.9875]\n"
          ]
        }
      ]
    },
    {
      "cell_type": "markdown",
      "source": [
        "# Avaliando Resultados"
      ],
      "metadata": {
        "id": "4Xop16V4Q0oS"
      }
    },
    {
      "cell_type": "markdown",
      "source": [
        "**Média**"
      ],
      "metadata": {
        "id": "aUB0rDhiQ5eK"
      }
    },
    {
      "cell_type": "code",
      "source": [
        "# Como os resultados foram armazenados em lista, precisaremos converter em Array\n",
        "resultados_naive_bayes = np.array(resultados_naive_bayes)\n",
        "resultados_logistica = np.array(resultados_logistica)\n",
        "resultados_forest = np.array(resultados_forest)"
      ],
      "metadata": {
        "id": "Npsx4z-IQcVI"
      },
      "execution_count": 37,
      "outputs": []
    },
    {
      "cell_type": "code",
      "source": [
        "# Média dos 30 testes\n",
        "resultados_naive_bayes.mean(), resultados_logistica.mean(), resultados_forest.mean()\n",
        "# R: (0.92425, 0.9145, 0.98475)"
      ],
      "metadata": {
        "colab": {
          "base_uri": "https://localhost:8080/"
        },
        "id": "6f47c_pERb7i",
        "outputId": "4e8f386a-05a5-4924-ed89-4587218f05e9"
      },
      "execution_count": 19,
      "outputs": [
        {
          "output_type": "execute_result",
          "data": {
            "text/plain": [
              "(0.92425, 0.9145, 0.98475)"
            ]
          },
          "metadata": {},
          "execution_count": 19
        }
      ]
    },
    {
      "cell_type": "markdown",
      "source": [
        "Moda"
      ],
      "metadata": {
        "id": "N38nmaNNSqLE"
      }
    },
    {
      "cell_type": "code",
      "source": [
        "stats.mode(resultados_naive_bayes), stats.mode(resultados_logistica), stats.mode(resultados_forest)"
      ],
      "metadata": {
        "colab": {
          "base_uri": "https://localhost:8080/"
        },
        "id": "dqgS99jVR1DC",
        "outputId": "a2181ccf-ea04-427c-bd11-e66b4ade73b1"
      },
      "execution_count": 25,
      "outputs": [
        {
          "output_type": "execute_result",
          "data": {
            "text/plain": [
              "(ModeResult(mode=array([0.9175]), count=array([5])),\n",
              " ModeResult(mode=array([0.9075]), count=array([4])),\n",
              " ModeResult(mode=array([0.985]), count=array([7])))"
            ]
          },
          "metadata": {},
          "execution_count": 25
        }
      ]
    },
    {
      "cell_type": "markdown",
      "source": [
        "**Mediana**"
      ],
      "metadata": {
        "id": "T-tuLs4DULpi"
      }
    },
    {
      "cell_type": "code",
      "source": [
        "np.median(resultados_naive_bayes), np.median(resultados_logistica), np.median(resultados_forest)"
      ],
      "metadata": {
        "colab": {
          "base_uri": "https://localhost:8080/"
        },
        "id": "48as5TTAS9Eh",
        "outputId": "52ef8444-82ad-42c7-d91e-34e7a7143561"
      },
      "execution_count": 26,
      "outputs": [
        {
          "output_type": "execute_result",
          "data": {
            "text/plain": [
              "(0.925, 0.9125, 0.985)"
            ]
          },
          "metadata": {},
          "execution_count": 26
        }
      ]
    },
    {
      "cell_type": "markdown",
      "source": [
        "**Variância**"
      ],
      "metadata": {
        "id": "iO7kk1mWUtOR"
      }
    },
    {
      "cell_type": "code",
      "source": [
        "np.set_printoptions(suppress=True)\n",
        "np.var(resultados_naive_bayes), np.var(resultados_logistica), np.var(resultados_forest)"
      ],
      "metadata": {
        "colab": {
          "base_uri": "https://localhost:8080/"
        },
        "id": "N-nSF89mUWDZ",
        "outputId": "b6962789-02af-482c-f158-10e03bdfe1b1"
      },
      "execution_count": 28,
      "outputs": [
        {
          "output_type": "execute_result",
          "data": {
            "text/plain": [
              "(8.756250000000001e-05, 0.00020933333333333337, 3.139583333333343e-05)"
            ]
          },
          "metadata": {},
          "execution_count": 28
        }
      ]
    },
    {
      "cell_type": "code",
      "source": [
        "# Como os dados estão em notação cientifica, utilizaremos uma funçã odo numpy\n",
        "# para encontrar-mos o algoritimo com menor variância\n",
        "# Podemos dizer que o algoritimo random_forest é mais consistente dentre os demais\n",
        "# pois possui uma menor variação entre a média\n",
        "np.min([8.756250000000001e-05, 0.00020933333333333337, 3.139583333333343e-05])"
      ],
      "metadata": {
        "colab": {
          "base_uri": "https://localhost:8080/"
        },
        "id": "fz-_IULTU4Ua",
        "outputId": "3dc4981e-13da-4e8d-eb11-6c8a06b7a1f6"
      },
      "execution_count": 30,
      "outputs": [
        {
          "output_type": "execute_result",
          "data": {
            "text/plain": [
              "3.139583333333343e-05"
            ]
          },
          "metadata": {},
          "execution_count": 30
        }
      ]
    },
    {
      "cell_type": "code",
      "source": [
        "# Algoritimo com a maior variação\n",
        "np.max([8.756250000000001e-05, 0.00020933333333333337, 3.139583333333343e-05])"
      ],
      "metadata": {
        "colab": {
          "base_uri": "https://localhost:8080/"
        },
        "id": "YJe_vF5_VXOq",
        "outputId": "3dc4cae4-695b-4581-d4c0-a38d8d26e364"
      },
      "execution_count": 31,
      "outputs": [
        {
          "output_type": "execute_result",
          "data": {
            "text/plain": [
              "0.00020933333333333337"
            ]
          },
          "metadata": {},
          "execution_count": 31
        }
      ]
    },
    {
      "cell_type": "markdown",
      "source": [
        "**Desvio Padrão**"
      ],
      "metadata": {
        "id": "uB7tcmTPW5CL"
      }
    },
    {
      "cell_type": "code",
      "source": [
        "np.std(resultados_naive_bayes), np.std(resultados_logistica), np.std(resultados_forest)"
      ],
      "metadata": {
        "colab": {
          "base_uri": "https://localhost:8080/"
        },
        "id": "gVqKQ9wuV-1C",
        "outputId": "6803ade7-845a-45b4-9904-597abe62078d"
      },
      "execution_count": 32,
      "outputs": [
        {
          "output_type": "execute_result",
          "data": {
            "text/plain": [
              "(0.00935748363610645, 0.014468356276140472, 0.0056031984913380885)"
            ]
          },
          "metadata": {},
          "execution_count": 32
        }
      ]
    },
    {
      "cell_type": "markdown",
      "source": [
        "**Coeficiente de Variação**"
      ],
      "metadata": {
        "id": "yKITw2okXS8b"
      }
    },
    {
      "cell_type": "code",
      "source": [
        "# O Algoritimo random forest varia cerca de 0.5% do valor da média\n",
        "stats.variation(resultados_naive_bayes) * 100, stats.variation(resultados_logistica) * 100, stats.variation(resultados_forest) * 100"
      ],
      "metadata": {
        "colab": {
          "base_uri": "https://localhost:8080/"
        },
        "id": "PsgZcZdPXSku",
        "outputId": "c927907e-0b5c-4819-f5a5-84a93d617865"
      },
      "execution_count": 36,
      "outputs": [
        {
          "output_type": "execute_result",
          "data": {
            "text/plain": [
              "(1.0124407504578252, 1.5821056616884057, 0.5689970542105193)"
            ]
          },
          "metadata": {},
          "execution_count": 36
        }
      ]
    }
  ]
}